{
 "cells": [
  {
   "cell_type": "code",
   "execution_count": 1,
   "metadata": {},
   "outputs": [],
   "source": [
    "from pyspark.sql import SparkSession\n",
    "\n",
    "spark = SparkSession \\\n",
    "    .builder \\\n",
    "    .appName(\"Python Spark regression example\") \\\n",
    "    .config(\"spark.some.config.option\", \"some-value\") \\\n",
    "    .getOrCreate()"
   ]
  },
  {
   "cell_type": "code",
   "execution_count": 2,
   "metadata": {},
   "outputs": [],
   "source": [
    "from PySparkAudit import trend_plot, auditing"
   ]
  },
  {
   "cell_type": "code",
   "execution_count": 3,
   "metadata": {},
   "outputs": [],
   "source": [
    "# data = spark.read.format('com.databricks.spark.csv').\\\n",
    "#                        options(header='true', \\\n",
    "#                        inferschema='true').\\\n",
    "#             load(\"Heart.csv\",header=True);\n",
    "# data.count()"
   ]
  },
  {
   "cell_type": "code",
   "execution_count": 4,
   "metadata": {},
   "outputs": [
    {
     "data": {
      "text/plain": [
       "2579771"
      ]
     },
     "execution_count": 4,
     "metadata": {},
     "output_type": "execute_result"
    }
   ],
   "source": [
    "data = spark.read.csv(path='/Users/dt216661/Downloads/renfe.csv',\n",
    "                      sep=',', encoding='UTF-8', comment=None, header=True, inferSchema=True)\n",
    "data.count()"
   ]
  },
  {
   "cell_type": "code",
   "execution_count": 5,
   "metadata": {},
   "outputs": [],
   "source": [
    "path = '/Users/dt216661/Desktop'"
   ]
  },
  {
   "cell_type": "code",
   "execution_count": 6,
   "metadata": {},
   "outputs": [
    {
     "name": "stdout",
     "output_type": "stream",
     "text": [
      "================================================================\n",
      "The audited results summary audited_results.xlsx was located at:\n",
      "/Users/dt216661/Desktop/Audited\n",
      "================================================================\n",
      "The correlation matrix plot Corr.png was located at:\n",
      "/Users/dt216661/Desktop/Audited\n",
      "================================================================\n",
      "The Histograms plots *.png were located at:\n",
      "/Users/dt216661/Desktop/Audited/02-hist\n",
      "================================================================\n",
      "The Bar plot Bar_plots.pdf was located at:\n",
      "/Users/dt216661/Desktop/Audited\n",
      "================================================================\n",
      "The Trend plot Trend_plots.pdf was located at:\n",
      "/Users/dt216661/Desktop/Audited\n",
      "Generate all audited results took = 323.3815429210663 s\n",
      "================================================================\n",
      "The auditing processes are DONE!!!\n"
     ]
    }
   ],
   "source": [
    "auditing(data, output_dir=path, types='day', tracking=False)"
   ]
  },
  {
   "cell_type": "code",
   "execution_count": null,
   "metadata": {},
   "outputs": [],
   "source": []
  }
 ],
 "metadata": {
  "kernelspec": {
   "display_name": "Python 3",
   "language": "python",
   "name": "python3"
  },
  "language_info": {
   "codemirror_mode": {
    "name": "ipython",
    "version": 3
   },
   "file_extension": ".py",
   "mimetype": "text/x-python",
   "name": "python",
   "nbconvert_exporter": "python",
   "pygments_lexer": "ipython3",
   "version": "3.6.8"
  }
 },
 "nbformat": 4,
 "nbformat_minor": 2
}
