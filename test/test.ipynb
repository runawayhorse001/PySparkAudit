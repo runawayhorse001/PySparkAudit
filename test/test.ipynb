{
 "cells": [
  {
   "cell_type": "code",
   "execution_count": 11,
   "metadata": {},
   "outputs": [],
   "source": [
    "# set up the Spark Session\n",
    "from pyspark.sql import SparkSession\n",
    "\n",
    "spark = SparkSession.builder.appName(\"PySpark Data Audit example\")\\\n",
    "                    .config(\"spark.some.config.option\", \"some-value\").getOrCreate()\n",
    "\n",
    "# load test dataset \n",
    "data = spark.read.csv(path='Heart.csv',\n",
    "                      sep=',', encoding='UTF-8', comment=None, \n",
    "                      header=True, inferSchema=True)\n",
    "data = data.sample(withReplacement=False,fraction= 0.5)"
   ]
  },
  {
   "cell_type": "code",
   "execution_count": 13,
   "metadata": {},
   "outputs": [
    {
     "name": "stdout",
     "output_type": "stream",
     "text": [
      "+---+---+------------+------+----+---+-------+-----+-----+-------+-----+---+----------+---+\n",
      "|Age|Sex|   ChestPain|RestBP|Chol|Fbs|RestECG|MaxHR|ExAng|Oldpeak|Slope| Ca|      Thal|AHD|\n",
      "+---+---+------------+------+----+---+-------+-----+-----+-------+-----+---+----------+---+\n",
      "| 67|  1|asymptomatic|   160| 286|  0|      2|  108|    1|    1.5|    2|  3|    normal|Yes|\n",
      "| 67|  1|asymptomatic|   120| 229|  0|      2|  129|    1|    2.6|    2|  2|reversable|Yes|\n",
      "| 37|  1|  nonanginal|   130| 250|  0|      0|  187|    0|    3.5|    3|  0|    normal| No|\n",
      "| 56|  1|  nontypical|   120| 236|  0|      0|  178|    0|    0.8|    1|  0|    normal| No|\n",
      "| 63|  1|asymptomatic|   130| 254|  0|      2|  147|    0|    1.4|    2|  1|reversable|Yes|\n",
      "+---+---+------------+------+----+---+-------+-----+-----+-------+-----+---+----------+---+\n",
      "only showing top 5 rows\n",
      "\n"
     ]
    }
   ],
   "source": [
    "data.show(5)"
   ]
  },
  {
   "cell_type": "code",
   "execution_count": 58,
   "metadata": {},
   "outputs": [],
   "source": [
    "test = spark.createDataFrame([\n",
    "                        ('Joe', 67, 'F', 70000, 'asymptomatic', 286.1),\n",
    "                        ('Henry', 67, 'M', 80000, 'asymptomatic', 229.2),\n",
    "                        ('Sam', 37,  'F', 60000, 'nonanginal', 250.3),\n",
    "                        ('Max', 56, 'M', 90000, 'nontypical', 236.4),\n",
    "                        ('Mat', 56, 'F', 90000, 'asymptomatic', 254.5)],\n",
    "                        ['Name', 'Age', 'Sex', 'Sallary', 'ChestPain', 'Chol']\n",
    "                       )"
   ]
  },
  {
   "cell_type": "code",
   "execution_count": 59,
   "metadata": {},
   "outputs": [],
   "source": [
    "#from pyspark.sql.functions import to_timestamp\n",
    "test = spark.createDataFrame([\n",
    "                        ('Joe', 67, 'F', 70000, 'asymptomatic', 286.1, '2019-6-28'),\n",
    "                        ('Henry', 67, 'M', 80000, 'asymptomatic', 229.2, '2019-6-29'),\n",
    "                        ('Sam', 37,  'F', 60000, 'nonanginal', 250.3, '2019-6-30'),\n",
    "                        ('Max', 56, 'M', 90000, 'nontypical', 236.4, '2019-5-28'),\n",
    "                        ('Mat', 56, 'F', 90000, 'asymptomatic', 254.5, '2019-4-28')],\n",
    "                        ['Name', 'Age', 'Sex', 'Sallary', 'ChestPain', 'Chol', 'CreatDate']\n",
    "                       )\n",
    "\n",
    "import pyspark.sql.functions as F\n",
    "test = test.withColumn('CreatDate', F.col('CreatDate').cast('timestamp'))"
   ]
  },
  {
   "cell_type": "code",
   "execution_count": 60,
   "metadata": {},
   "outputs": [
    {
     "name": "stdout",
     "output_type": "stream",
     "text": [
      "+-----+---+---+-------+------------+-----+--------------------+\n",
      "| Name|Age|Sex|Sallary|   ChestPain| Chol|           CreatDate|\n",
      "+-----+---+---+-------+------------+-----+--------------------+\n",
      "|  Joe| 67|  F|  70000|asymptomatic|286.1|2019-06-28 00:00:...|\n",
      "|Henry| 67|  M|  80000|asymptomatic|229.2|2019-06-29 00:00:...|\n",
      "|  Sam| 37|  F|  60000|  nonanginal|250.3|2019-06-30 00:00:...|\n",
      "|  Max| 56|  M|  90000|  nontypical|236.4|2019-05-28 00:00:...|\n",
      "|  Mat| 56|  F|  90000|asymptomatic|254.5|2019-04-28 00:00:...|\n",
      "+-----+---+---+-------+------------+-----+--------------------+\n",
      "\n"
     ]
    }
   ],
   "source": [
    "test.show()"
   ]
  },
  {
   "cell_type": "code",
   "execution_count": 61,
   "metadata": {},
   "outputs": [
    {
     "data": {
      "text/html": [
       "<div>\n",
       "<style scoped>\n",
       "    .dataframe tbody tr th:only-of-type {\n",
       "        vertical-align: middle;\n",
       "    }\n",
       "\n",
       "    .dataframe tbody tr th {\n",
       "        vertical-align: top;\n",
       "    }\n",
       "\n",
       "    .dataframe thead th {\n",
       "        text-align: right;\n",
       "    }\n",
       "</style>\n",
       "<table border=\"1\" class=\"dataframe\">\n",
       "  <thead>\n",
       "    <tr style=\"text-align: right;\">\n",
       "      <th></th>\n",
       "      <th>feature</th>\n",
       "      <th>dtypes</th>\n",
       "    </tr>\n",
       "  </thead>\n",
       "  <tbody>\n",
       "    <tr>\n",
       "      <th>0</th>\n",
       "      <td>Name</td>\n",
       "      <td>string</td>\n",
       "    </tr>\n",
       "    <tr>\n",
       "      <th>1</th>\n",
       "      <td>Age</td>\n",
       "      <td>bigint</td>\n",
       "    </tr>\n",
       "    <tr>\n",
       "      <th>2</th>\n",
       "      <td>Sex</td>\n",
       "      <td>string</td>\n",
       "    </tr>\n",
       "    <tr>\n",
       "      <th>3</th>\n",
       "      <td>Sallary</td>\n",
       "      <td>bigint</td>\n",
       "    </tr>\n",
       "    <tr>\n",
       "      <th>4</th>\n",
       "      <td>ChestPain</td>\n",
       "      <td>string</td>\n",
       "    </tr>\n",
       "    <tr>\n",
       "      <th>5</th>\n",
       "      <td>Chol</td>\n",
       "      <td>double</td>\n",
       "    </tr>\n",
       "    <tr>\n",
       "      <th>6</th>\n",
       "      <td>CreatDate</td>\n",
       "      <td>timestamp</td>\n",
       "    </tr>\n",
       "  </tbody>\n",
       "</table>\n",
       "</div>"
      ],
      "text/plain": [
       "     feature     dtypes\n",
       "0       Name     string\n",
       "1        Age     bigint\n",
       "2        Sex     string\n",
       "3    Sallary     bigint\n",
       "4  ChestPain     string\n",
       "5       Chol     double\n",
       "6  CreatDate  timestamp"
      ]
     },
     "execution_count": 61,
     "metadata": {},
     "output_type": "execute_result"
    }
   ],
   "source": [
    "# import PySparkAudit function\n",
    "from PySparkAudit import data_types\n",
    "data_types(test)"
   ]
  },
  {
   "cell_type": "code",
   "execution_count": 64,
   "metadata": {},
   "outputs": [],
   "source": [
    "test = spark.createDataFrame([\n",
    "                        ('Joe', None, 'F', 70000, 'asymptomatic', 286.1, '2019-6-28'),\n",
    "                        ('Henry', 67, 'M', 80000, 'asymptomatic', 229.2, '2019-6-29'),\n",
    "                        ('Sam', 37,  'F', 60000, 'nonanginal', 250.3, '2019-6-30'),\n",
    "                        ('Max', 56, '  ', 90000, None, 236.4, '2019-5-28'),\n",
    "                        ('Mat', 56, 'F', None, 'asymptomatic', 254.5, '2019-4-28')],\n",
    "                        ['Name', 'Age', 'Sex', 'Sallary', 'ChestPain', 'Chol', 'CreatDate']\n",
    "                       )\n"
   ]
  },
  {
   "cell_type": "code",
   "execution_count": 65,
   "metadata": {},
   "outputs": [
    {
     "data": {
      "text/html": [
       "<div>\n",
       "<style scoped>\n",
       "    .dataframe tbody tr th:only-of-type {\n",
       "        vertical-align: middle;\n",
       "    }\n",
       "\n",
       "    .dataframe tbody tr th {\n",
       "        vertical-align: top;\n",
       "    }\n",
       "\n",
       "    .dataframe thead th {\n",
       "        text-align: right;\n",
       "    }\n",
       "</style>\n",
       "<table border=\"1\" class=\"dataframe\">\n",
       "  <thead>\n",
       "    <tr style=\"text-align: right;\">\n",
       "      <th></th>\n",
       "      <th>feature</th>\n",
       "      <th>row_count</th>\n",
       "      <th>notnull_count</th>\n",
       "      <th>distinct_count</th>\n",
       "    </tr>\n",
       "  </thead>\n",
       "  <tbody>\n",
       "    <tr>\n",
       "      <th>0</th>\n",
       "      <td>Name</td>\n",
       "      <td>5</td>\n",
       "      <td>5</td>\n",
       "      <td>5</td>\n",
       "    </tr>\n",
       "    <tr>\n",
       "      <th>1</th>\n",
       "      <td>Age</td>\n",
       "      <td>5</td>\n",
       "      <td>4</td>\n",
       "      <td>3</td>\n",
       "    </tr>\n",
       "    <tr>\n",
       "      <th>2</th>\n",
       "      <td>Sex</td>\n",
       "      <td>5</td>\n",
       "      <td>5</td>\n",
       "      <td>3</td>\n",
       "    </tr>\n",
       "    <tr>\n",
       "      <th>3</th>\n",
       "      <td>Sallary</td>\n",
       "      <td>5</td>\n",
       "      <td>4</td>\n",
       "      <td>4</td>\n",
       "    </tr>\n",
       "    <tr>\n",
       "      <th>4</th>\n",
       "      <td>ChestPain</td>\n",
       "      <td>5</td>\n",
       "      <td>4</td>\n",
       "      <td>2</td>\n",
       "    </tr>\n",
       "    <tr>\n",
       "      <th>5</th>\n",
       "      <td>Chol</td>\n",
       "      <td>5</td>\n",
       "      <td>5</td>\n",
       "      <td>5</td>\n",
       "    </tr>\n",
       "    <tr>\n",
       "      <th>6</th>\n",
       "      <td>CreatDate</td>\n",
       "      <td>5</td>\n",
       "      <td>5</td>\n",
       "      <td>5</td>\n",
       "    </tr>\n",
       "  </tbody>\n",
       "</table>\n",
       "</div>"
      ],
      "text/plain": [
       "     feature  row_count  notnull_count  distinct_count\n",
       "0       Name          5              5               5\n",
       "1        Age          5              4               3\n",
       "2        Sex          5              5               3\n",
       "3    Sallary          5              4               4\n",
       "4  ChestPain          5              4               2\n",
       "5       Chol          5              5               5\n",
       "6  CreatDate          5              5               5"
      ]
     },
     "execution_count": 65,
     "metadata": {},
     "output_type": "execute_result"
    }
   ],
   "source": [
    "from PySparkAudit import counts\n",
    "counts(test)"
   ]
  },
  {
   "cell_type": "code",
   "execution_count": null,
   "metadata": {},
   "outputs": [],
   "source": []
  }
 ],
 "metadata": {
  "kernelspec": {
   "display_name": "Python 3",
   "language": "python",
   "name": "python3"
  },
  "language_info": {
   "codemirror_mode": {
    "name": "ipython",
    "version": 3
   },
   "file_extension": ".py",
   "mimetype": "text/x-python",
   "name": "python",
   "nbconvert_exporter": "python",
   "pygments_lexer": "ipython3",
   "version": "3.7.1"
  }
 },
 "nbformat": 4,
 "nbformat_minor": 2
}
