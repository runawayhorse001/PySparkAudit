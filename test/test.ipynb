{
 "cells": [
  {
   "cell_type": "code",
   "execution_count": 1,
   "metadata": {},
   "outputs": [
    {
     "ename": "IndentationError",
     "evalue": "unexpected indent (<ipython-input-1-89c65d79b289>, line 5)",
     "output_type": "error",
     "traceback": [
      "\u001b[0;36m  File \u001b[0;32m\"<ipython-input-1-89c65d79b289>\"\u001b[0;36m, line \u001b[0;32m5\u001b[0m\n\u001b[0;31m    .config(\"spark.some.config.option\", \"some-value\").getOrCreate()\u001b[0m\n\u001b[0m    ^\u001b[0m\n\u001b[0;31mIndentationError\u001b[0m\u001b[0;31m:\u001b[0m unexpected indent\n"
     ]
    }
   ],
   "source": [
    "# set up the Spark Session\n",
    "from pyspark.sql import SparkSession\n",
    "\n",
    "spark = SparkSession.builder.appName(\"PySpark Data Audit example\")\\  \n",
    "                    .config(\"spark.some.config.option\", \"some-value\").getOrCreate()\n",
    "\n",
    "# import PySparkAudit function\n",
    "from PySparkAudit import trend_plot, auditing\n",
    "\n",
    "# load data\n",
    "data = spark.read.format('com.databricks.spark.csv')\\\n",
    "            .options(header='true',inferschema='true').load(\"Heart.csv\",header=True);\n",
    "\n",
    "# set ouput path\n",
    "path = '/Users/dt216661/Desktop/test'\n",
    "\n",
    "\n",
    "# auditing in oue function \n",
    "auditing(data, output_dir=path, types='day', tracking=False)"
   ]
  },
  {
   "cell_type": "code",
   "execution_count": null,
   "metadata": {},
   "outputs": [],
   "source": []
  }
 ],
 "metadata": {
  "kernelspec": {
   "display_name": "Python 3",
   "language": "python",
   "name": "python3"
  },
  "language_info": {
   "codemirror_mode": {
    "name": "ipython",
    "version": 3
   },
   "file_extension": ".py",
   "mimetype": "text/x-python",
   "name": "python",
   "nbconvert_exporter": "python",
   "pygments_lexer": "ipython3",
   "version": "3.6.8"
  }
 },
 "nbformat": 4,
 "nbformat_minor": 2
}
